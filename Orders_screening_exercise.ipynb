{
 "cells": [
  {
   "cell_type": "code",
   "execution_count": 23,
   "metadata": {},
   "outputs": [],
   "source": [
    "from scipy import stats # dealing with probability distributions\n",
    "import pandas as pd # for data manupulation and analysis\n",
    "import matplotlib.pyplot as plt #for plotting\n",
    "import numpy as np  # dealing with arrays\n",
    "import dateutil # datetime module\n",
    "import statistics # provides functions for calculating mathematical statistics\n",
    "\n",
    "# Load data from csv file path\n",
    "df= pd.read_csv('screening_exercise_orders_v201810.csv')"
   ]
  },
  {
   "cell_type": "code",
   "execution_count": 24,
   "metadata": {},
   "outputs": [
    {
     "name": "stdout",
     "output_type": "stream",
     "text": [
      "   customer_id  gender                 date  value  predicted_gender\n",
      "0         1000       0  2017-01-01 00:11:31  198.5                 1\n",
      "1         1001       0  2017-01-01 00:29:56  338.0                 1\n",
      "2         1002       1  2017-01-01 01:30:31  733.0                 1\n",
      "3         1003       1  2017-01-01 01:34:22  772.0                 1\n",
      "4         1004       0  2017-01-01 03:11:54  508.0                 1\n"
     ]
    }
   ],
   "source": [
    "print(df.head())"
   ]
  },
  {
   "cell_type": "code",
   "execution_count": 25,
   "metadata": {},
   "outputs": [],
   "source": [
    "# computing most_recent_order_date\n",
    "customer_recentorder = df.groupby(['customer_id','gender'], sort=False)['date'].max()"
   ]
  },
  {
   "cell_type": "code",
   "execution_count": 26,
   "metadata": {},
   "outputs": [],
   "source": [
    "# converting series to dataframe and resetting index\n",
    "customer_recentorder_df = customer_recentorder.to_frame().reset_index()"
   ]
  },
  {
   "cell_type": "code",
   "execution_count": 27,
   "metadata": {},
   "outputs": [],
   "source": [
    "# renaming column names\n",
    "customer_recentorder_df.columns = ['customer_id','gender','most_recent_order_date']"
   ]
  },
  {
   "cell_type": "code",
   "execution_count": 28,
   "metadata": {},
   "outputs": [],
   "source": [
    "# couting orders placed by the customer\n",
    "order_count = df['customer_id'].value_counts()"
   ]
  },
  {
   "cell_type": "code",
   "execution_count": 29,
   "metadata": {},
   "outputs": [],
   "source": [
    "# converting series to dataframe and resetting index\n",
    "order_count_df = order_count.to_frame().reset_index()"
   ]
  },
  {
   "cell_type": "code",
   "execution_count": 30,
   "metadata": {},
   "outputs": [],
   "source": [
    "# renaming column names\n",
    "order_count_df.columns = ['customer_id','order_count']"
   ]
  },
  {
   "cell_type": "code",
   "execution_count": 31,
   "metadata": {},
   "outputs": [
    {
     "name": "stdout",
     "output_type": "stream",
     "text": [
      "\n",
      "    Dataframe with one row per customer and the following columns:\n",
      "    * customer_id\n",
      "    * gender\n",
      "    * most_recent_order_date\n",
      "    * order_count (number of orders placed by this customer)\n",
      "    ------------------------------------------------------------\n",
      "             gender most_recent_order_date  order_count\n",
      "customer_id                                            \n",
      "1000              0    2017-01-01 00:11:31            1\n",
      "1001              0    2017-01-01 00:29:56            1\n",
      "1002              1    2017-02-19 21:35:31            3\n",
      "1003              1    2017-04-26 02:37:20            4\n",
      "1004              0    2017-01-01 03:11:54            1\n",
      "1005              1    2017-12-16 01:39:27            2\n",
      "1006              1    2017-05-09 15:27:20            3\n",
      "1007              0    2017-01-01 15:59:50            1\n",
      "1008              0    2017-12-17 05:47:48            3\n",
      "1009              1    2017-01-01 19:27:17            1\n",
      "1010              1    2017-04-28 13:31:11            2\n",
      "1011              1    2017-01-01 22:04:54            1\n",
      "1012              1    2017-01-01 22:08:16            1\n",
      "1013              0    2017-01-01 23:51:58            1\n",
      "1014              1    2017-01-02 00:28:42            1\n",
      "1015              0    2017-09-21 19:58:04            4\n",
      "1016              1    2017-01-02 01:24:13            1\n",
      "1017              0    2017-01-02 02:08:52            2\n",
      "1018              0    2017-01-23 01:34:52            2\n",
      "1019              0    2017-01-02 02:17:03            1\n",
      "1020              0    2017-04-03 02:42:42            3\n",
      "1021              1    2017-03-14 00:14:21            2\n",
      "1022              0    2017-01-02 03:36:59            1\n",
      "1023              0    2017-03-04 21:15:18            4\n",
      "1024              1    2017-01-02 05:19:48            1\n",
      "1025              0    2017-05-11 19:57:33            3\n",
      "1026              0    2017-01-02 14:52:06            1\n",
      "1027              0    2017-01-02 15:49:44            1\n",
      "1028              0    2017-01-22 22:27:15            2\n",
      "1029              0    2017-01-02 17:01:25            1\n",
      "...             ...                    ...          ...\n",
      "9784              0    2017-12-30 20:38:45            1\n",
      "9785              1    2017-12-30 21:12:58            1\n",
      "9786              1    2017-12-30 21:36:03            1\n",
      "9787              1    2017-12-30 23:53:08            1\n",
      "9788              1    2017-12-31 00:26:48            1\n",
      "9789              1    2017-12-31 02:13:42            1\n",
      "9790              0    2017-12-31 03:15:10            1\n",
      "9791              1    2017-12-31 07:29:37            1\n",
      "9792              1    2017-12-31 12:50:05            1\n",
      "9793              0    2017-12-31 14:18:10            1\n",
      "9794              1    2017-12-31 15:13:51            1\n",
      "9795              1    2017-12-31 15:42:08            1\n",
      "9796              0    2017-12-31 16:19:48            1\n",
      "9797              0    2017-12-31 16:36:34            1\n",
      "9798              1    2017-12-31 17:36:37            1\n",
      "9799              1    2017-12-31 18:20:50            1\n",
      "9800              1    2017-12-31 18:33:23            1\n",
      "9801              0    2017-12-31 18:53:32            1\n",
      "9802              1    2017-12-31 18:55:09            1\n",
      "9803              0    2017-12-31 18:57:12            1\n",
      "9804              0    2017-12-31 19:49:44            1\n",
      "9805              1    2017-12-31 20:07:35            1\n",
      "9806              1    2017-12-31 21:08:36            1\n",
      "9807              0    2017-12-31 21:24:08            1\n",
      "9808              1    2017-12-31 21:39:27            1\n",
      "9809              1    2017-12-31 21:39:33            1\n",
      "9810              1    2017-12-31 22:16:20            1\n",
      "9811              1    2017-12-31 22:24:06            1\n",
      "9812              0    2017-12-31 23:01:10            1\n",
      "9813              0    2017-12-31 23:11:02            1\n",
      "\n",
      "[8814 rows x 3 columns]\n"
     ]
    }
   ],
   "source": [
    "# Problem statement\n",
    "print(\"\"\"\n",
    "    Dataframe with one row per customer and the following columns:\n",
    "    * customer_id\n",
    "    * gender\n",
    "    * most_recent_order_date\n",
    "    * order_count (number of orders placed by this customer)\n",
    "    ------------------------------------------------------------\"\"\")\n",
    "\n",
    "# solution\n",
    "\n",
    "# Joining order_count dataframe with customer_recentorder dataframe \n",
    "customer_dataframe = customer_recentorder_df.set_index('customer_id').join(order_count_df.set_index('customer_id'))\n",
    "print(customer_dataframe)"
   ]
  },
  {
   "cell_type": "code",
   "execution_count": 17,
   "metadata": {},
   "outputs": [
    {
     "name": "stdout",
     "output_type": "stream",
     "text": [
      "Populating the interactive namespace from numpy and matplotlib\n",
      "Assumption: Week 1 begins on January 1, regardless of what day of the week that might be\n"
     ]
    },
    {
     "data": {
      "image/png": "[encoded data removed]",
      "text/plain": [
       "<Figure size 1440x720 with 1 Axes>"
      ]
     },
     "metadata": {
      "needs_background": "light"
     },
     "output_type": "display_data"
    }
   ],
   "source": [
    "#resizing image size\n",
    "%pylab inline\n",
    "pylab.rcParams['figure.figsize'] = (20, 10)\n",
    "\n",
    "print(\"Assumption: Week 1 begins on January 1, regardless of what day of the week that might be\")\n",
    "\n",
    "df['date'] = pd.to_datetime(df['date'])\n",
    "\n",
    "# converting date to Year_week_number\n",
    "df['Year_Week_Number'] = df.date.dt.strftime('%Y-%U')\n",
    "\n",
    "# computing orders count per week\n",
    "Orders_count_week = df.groupby(['Year_Week_Number'])['value'].count()\n",
    "\n",
    "# renaming columns\n",
    "Orders_count_week.columns = ['Year_Week_Number','Orders per Week']\n",
    "\n",
    "# plotting bar graph\n",
    "ax = Orders_count_week.plot.bar()\n",
    "\n",
    "# annotate bars with values \n",
    "for p in ax.patches: ax.annotate(np.round(p.get_height(),decimals=2), (p.get_x()+p.get_width()/2., p.get_height()), ha='center', va='center', xytext=(0, 10), textcoords='offset points')\n",
    "    \n",
    "plt.title('Count of orders per week',fontsize=18)\n",
    "\n",
    "plt.ylabel('Orders count',fontsize=16)\n",
    "plt.xlabel('Year-weeknumber',fontsize=16)\n",
    "plt.show()"
   ]
  },
  {
   "cell_type": "code",
   "execution_count": 35,
   "metadata": {},
   "outputs": [
    {
     "name": "stdout",
     "output_type": "stream",
     "text": [
      "\n",
      "Mean order value for gender 0 and for gender 1:\n",
      "----------------------------------------------\n",
      " -> mean order value of gender0 is 363.89\n",
      "\n",
      "\n",
      " -> mean order value of gender1 is 350.71\n",
      "\n",
      "Check whether difference between genders mean order value is significant:\n",
      "-------------------------------------------------------------------------\n",
      "Performing a 2 sample t-test to test whether mean order value of gender 1 in the dataset is different from gender 0\n",
      "\n",
      "\n",
      "Null Hypothesis : Mean order values of gender 0 and gender 1 are the same\n",
      "\n",
      "\n",
      "Alternate Hypothesis : Mean order values of gender 0 and gender 1 are the different\n",
      "\n",
      "\n",
      " -> t value is 1.976\n",
      "\n",
      "\n",
      " -> p value is 0.0482\n",
      "\n",
      "\n",
      "we can infer from above that after comparing the t statistic with \n",
      "    the critical t value  we get a good p value of 0.0482 and \n",
      "    thus we reject the null hypothesis and thus it proves that the \"mean order value of the two genders are different \n",
      "    and statistically significant\" \n"
     ]
    }
   ],
   "source": [
    "print(\"\"\"\n",
    "Mean order value for gender 0 and for gender 1:\n",
    "----------------------------------------------\"\"\")\n",
    "\n",
    "# computing mean of gender0\n",
    "gender0_mean = df.groupby('gender')['value'].mean()[0]\n",
    "\n",
    "print(\" -> mean order value of gender0 is \" + str(round(gender0_mean,2)))\n",
    "print(\"\\n\")\n",
    "\n",
    "# computing mean of gender1\n",
    "gender1_mean = df.groupby('gender')['value'].mean()[1]\n",
    "print(\" -> mean order value of gender1 is \" + str(round(gender1_mean,2)))\n",
    "\n",
    "print(\"\"\"\n",
    "Check whether difference between genders mean order value is significant:\n",
    "-------------------------------------------------------------------------\"\"\")\n",
    "# sample size\n",
    "N = (df['customer_id'].count())/2\n",
    "\n",
    "print(\"Performing a 2 sample t-test to test whether mean order value of gender 1 in the dataset is different from gender 0\")\n",
    "print(\"\\n\")\n",
    "print(\"Null Hypothesis : Mean order values of gender 0 and gender 1 are the same\")\n",
    "print(\"\\n\")\n",
    "print(\"Alternate Hypothesis : Mean order values of gender 0 and gender 1 are the different\")\n",
    "print(\"\\n\")\n",
    "\n",
    "# computing variance of gender0\n",
    "gender0_var = df.groupby('gender')['value'].var(ddof=1)[0]\n",
    "\n",
    "# computing variance of gender1\n",
    "gender1_var = df.groupby('gender')['value'].var(ddof=1)[1]\n",
    "\n",
    "# computing standard deviation\n",
    "s = np.sqrt((gender0_var + gender1_var)/2)\n",
    "\n",
    "# computing t-statistics\n",
    "t = (gender0_mean - gender1_mean)/(s*np.sqrt(2/N))\n",
    "print(\" -> t value is \" + str(round(t,4)))\n",
    "print(\"\\n\")\n",
    "\n",
    "## Compare with the critical t-value\n",
    "# Degrees of freedom\n",
    "df = 2*N - 2\n",
    "\n",
    "# p-value after comparison with the t \n",
    "p = 1 - stats.t.cdf(t,df=df)\n",
    "\n",
    "# multiply p value with 2 because its a two tail t-test\n",
    "p_new = round(2*p,4)\n",
    "\n",
    "print(\" -> p value is \" + str(p_new))\n",
    "print(\"\\n\")\n",
    "\n",
    "if ( p_new < 0.05 ):\n",
    "    print(\"\"\"we can infer from above that after comparing the t statistic with \n",
    "    the critical t value  we get a good p value of \"\"\" +  str(round(2*p,4))  + \"\"\" and \n",
    "    thus we reject the null hypothesis and thus it proves that the \"mean order value of the two genders are different \n",
    "    and statistically significant\" \"\"\")\n",
    "else:\n",
    "    print(\"\"\"we can infer from above that after comparing the t statistic with \n",
    "    the critical t value  we get a good p value of \"\"\" +  str(round(2*p,4))  + \"\"\" and \n",
    "    thus we accept the null hypothesis and thus it proves that the \"mean order value of the two genders are same\" \"\"\")"
   ]
  },
  {
   "cell_type": "code",
   "execution_count": null,
   "metadata": {},
   "outputs": [],
   "source": []
  }
 ],
 "metadata": {
  "kernelspec": {
   "display_name": "Python 3",
   "language": "python",
   "name": "python3"
  },
  "language_info": {
   "codemirror_mode": {
    "name": "ipython",
    "version": 3
   },
   "file_extension": ".py",
   "mimetype": "text/x-python",
   "name": "python",
   "nbconvert_exporter": "python",
   "pygments_lexer": "ipython3",
   "version": "3.7.3"
  }
 },
 "nbformat": 4,
 "nbformat_minor": 2
}
